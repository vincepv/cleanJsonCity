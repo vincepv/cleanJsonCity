{
 "cells": [
  {
   "cell_type": "code",
   "execution_count": 1,
   "metadata": {},
   "outputs": [
    {
     "data": {
      "text/plain": [
       "regionCode        object\n",
       "regionName        object\n",
       "departmentCode    object\n",
       "departmentName    object\n",
       "circoCode          int64\n",
       "countyCode         int64\n",
       "countyName        object\n",
       "cityCodeLong      object\n",
       "cityCode           int64\n",
       "cityName          object\n",
       "dtype: object"
      ]
     },
     "execution_count": 1,
     "metadata": {},
     "output_type": "execute_result"
    }
   ],
   "source": [
    "import pandas as pd\n",
    "import json\n",
    "\n",
    "my_file_to_clean = \"/Users/vpv/dev/cleanJsonCity/data/source/countries/countries.json\"\n",
    "\n",
    "#load json\n",
    "f = open(my_file_to_clean)\n",
    "df = json.load(f)\n",
    "\n",
    "#flatten json\n",
    "df = pd.json_normalize(\n",
    "        df,\n",
    "        record_path=[\"area\"],\n",
    "        errors='ignore'\n",
    "    )\n",
    "\n",
    "#clean json\n",
    "df.dtypes\n"
   ]
  },
  {
   "cell_type": "code",
   "execution_count": 2,
   "metadata": {},
   "outputs": [
    {
     "data": {
      "text/html": [
       "<div>\n",
       "<style scoped>\n",
       "    .dataframe tbody tr th:only-of-type {\n",
       "        vertical-align: middle;\n",
       "    }\n",
       "\n",
       "    .dataframe tbody tr th {\n",
       "        vertical-align: top;\n",
       "    }\n",
       "\n",
       "    .dataframe thead th {\n",
       "        text-align: right;\n",
       "    }\n",
       "</style>\n",
       "<table border=\"1\" class=\"dataframe\">\n",
       "  <thead>\n",
       "    <tr style=\"text-align: right;\">\n",
       "      <th></th>\n",
       "      <th>regionCode</th>\n",
       "      <th>regionName</th>\n",
       "      <th>departmentCode</th>\n",
       "      <th>departmentName</th>\n",
       "      <th>circoCode</th>\n",
       "      <th>countyCode</th>\n",
       "      <th>countyName</th>\n",
       "      <th>cityCodeLong</th>\n",
       "      <th>cityCode</th>\n",
       "      <th>cityName</th>\n",
       "      <th>cityCodeStr</th>\n",
       "      <th>departmentCodeStr</th>\n",
       "    </tr>\n",
       "  </thead>\n",
       "  <tbody>\n",
       "    <tr>\n",
       "      <th>0</th>\n",
       "      <td>84</td>\n",
       "      <td>AUVERGNE RHONE ALPES</td>\n",
       "      <td>1</td>\n",
       "      <td>Ain</td>\n",
       "      <td>4</td>\n",
       "      <td>8</td>\n",
       "      <td>Châtillon-sur-Chalaronne</td>\n",
       "      <td>1001</td>\n",
       "      <td>1</td>\n",
       "      <td>L'Abergement-Clémenciat</td>\n",
       "      <td>1</td>\n",
       "      <td>1</td>\n",
       "    </tr>\n",
       "    <tr>\n",
       "      <th>1</th>\n",
       "      <td>84</td>\n",
       "      <td>AUVERGNE RHONE ALPES</td>\n",
       "      <td>1</td>\n",
       "      <td>Ain</td>\n",
       "      <td>5</td>\n",
       "      <td>1</td>\n",
       "      <td>Ambérieu-en-Bugey</td>\n",
       "      <td>1002</td>\n",
       "      <td>2</td>\n",
       "      <td>L'Abergement-de-Varey</td>\n",
       "      <td>2</td>\n",
       "      <td>1</td>\n",
       "    </tr>\n",
       "    <tr>\n",
       "      <th>2</th>\n",
       "      <td>84</td>\n",
       "      <td>AUVERGNE RHONE ALPES</td>\n",
       "      <td>1</td>\n",
       "      <td>Ain</td>\n",
       "      <td>5</td>\n",
       "      <td>1</td>\n",
       "      <td>Ambérieu-en-Bugey</td>\n",
       "      <td>1004</td>\n",
       "      <td>4</td>\n",
       "      <td>Ambérieu-en-Bugey</td>\n",
       "      <td>4</td>\n",
       "      <td>1</td>\n",
       "    </tr>\n",
       "    <tr>\n",
       "      <th>3</th>\n",
       "      <td>84</td>\n",
       "      <td>AUVERGNE RHONE ALPES</td>\n",
       "      <td>1</td>\n",
       "      <td>Ain</td>\n",
       "      <td>4</td>\n",
       "      <td>22</td>\n",
       "      <td>Villars-les-Dombes</td>\n",
       "      <td>1005</td>\n",
       "      <td>5</td>\n",
       "      <td>Ambérieux-en-Dombes</td>\n",
       "      <td>5</td>\n",
       "      <td>1</td>\n",
       "    </tr>\n",
       "    <tr>\n",
       "      <th>4</th>\n",
       "      <td>84</td>\n",
       "      <td>AUVERGNE RHONE ALPES</td>\n",
       "      <td>1</td>\n",
       "      <td>Ain</td>\n",
       "      <td>3</td>\n",
       "      <td>4</td>\n",
       "      <td>Belley</td>\n",
       "      <td>1006</td>\n",
       "      <td>6</td>\n",
       "      <td>Ambléon</td>\n",
       "      <td>6</td>\n",
       "      <td>1</td>\n",
       "    </tr>\n",
       "    <tr>\n",
       "      <th>...</th>\n",
       "      <td>...</td>\n",
       "      <td>...</td>\n",
       "      <td>...</td>\n",
       "      <td>...</td>\n",
       "      <td>...</td>\n",
       "      <td>...</td>\n",
       "      <td>...</td>\n",
       "      <td>...</td>\n",
       "      <td>...</td>\n",
       "      <td>...</td>\n",
       "      <td>...</td>\n",
       "      <td>...</td>\n",
       "    </tr>\n",
       "    <tr>\n",
       "      <th>36461</th>\n",
       "      <td>ZZ</td>\n",
       "      <td>ZZ</td>\n",
       "      <td>ZZ</td>\n",
       "      <td>Français établis hors de France</td>\n",
       "      <td>11</td>\n",
       "      <td>1</td>\n",
       "      <td>Canton fictif</td>\n",
       "      <td>ZZ226</td>\n",
       "      <td>226</td>\n",
       "      <td>Wuhan</td>\n",
       "      <td>226</td>\n",
       "      <td>ZZ</td>\n",
       "    </tr>\n",
       "    <tr>\n",
       "      <th>36462</th>\n",
       "      <td>ZZ</td>\n",
       "      <td>ZZ</td>\n",
       "      <td>ZZ</td>\n",
       "      <td>Français établis hors de France</td>\n",
       "      <td>10</td>\n",
       "      <td>1</td>\n",
       "      <td>Canton fictif</td>\n",
       "      <td>ZZ227</td>\n",
       "      <td>227</td>\n",
       "      <td>Yaounde</td>\n",
       "      <td>227</td>\n",
       "      <td>ZZ</td>\n",
       "    </tr>\n",
       "    <tr>\n",
       "      <th>36463</th>\n",
       "      <td>ZZ</td>\n",
       "      <td>ZZ</td>\n",
       "      <td>ZZ</td>\n",
       "      <td>Français établis hors de France</td>\n",
       "      <td>7</td>\n",
       "      <td>1</td>\n",
       "      <td>Canton fictif</td>\n",
       "      <td>ZZ228</td>\n",
       "      <td>228</td>\n",
       "      <td>Zagreb</td>\n",
       "      <td>228</td>\n",
       "      <td>ZZ</td>\n",
       "    </tr>\n",
       "    <tr>\n",
       "      <th>36464</th>\n",
       "      <td>ZZ</td>\n",
       "      <td>ZZ</td>\n",
       "      <td>ZZ</td>\n",
       "      <td>Français établis hors de France</td>\n",
       "      <td>6</td>\n",
       "      <td>1</td>\n",
       "      <td>Canton fictif</td>\n",
       "      <td>ZZ229</td>\n",
       "      <td>229</td>\n",
       "      <td>Zurich</td>\n",
       "      <td>229</td>\n",
       "      <td>ZZ</td>\n",
       "    </tr>\n",
       "    <tr>\n",
       "      <th>36465</th>\n",
       "      <td>ZZ</td>\n",
       "      <td>ZZ</td>\n",
       "      <td>ZZ</td>\n",
       "      <td>Français établis hors de France</td>\n",
       "      <td>11</td>\n",
       "      <td>1</td>\n",
       "      <td>Canton fictif</td>\n",
       "      <td>ZZ231</td>\n",
       "      <td>231</td>\n",
       "      <td>Taipeh</td>\n",
       "      <td>231</td>\n",
       "      <td>ZZ</td>\n",
       "    </tr>\n",
       "  </tbody>\n",
       "</table>\n",
       "<p>36466 rows × 12 columns</p>\n",
       "</div>"
      ],
      "text/plain": [
       "      regionCode            regionName departmentCode  \\\n",
       "0             84  AUVERGNE RHONE ALPES              1   \n",
       "1             84  AUVERGNE RHONE ALPES              1   \n",
       "2             84  AUVERGNE RHONE ALPES              1   \n",
       "3             84  AUVERGNE RHONE ALPES              1   \n",
       "4             84  AUVERGNE RHONE ALPES              1   \n",
       "...          ...                   ...            ...   \n",
       "36461         ZZ                    ZZ             ZZ   \n",
       "36462         ZZ                    ZZ             ZZ   \n",
       "36463         ZZ                    ZZ             ZZ   \n",
       "36464         ZZ                    ZZ             ZZ   \n",
       "36465         ZZ                    ZZ             ZZ   \n",
       "\n",
       "                        departmentName  circoCode  countyCode  \\\n",
       "0                                  Ain          4           8   \n",
       "1                                  Ain          5           1   \n",
       "2                                  Ain          5           1   \n",
       "3                                  Ain          4          22   \n",
       "4                                  Ain          3           4   \n",
       "...                                ...        ...         ...   \n",
       "36461  Français établis hors de France         11           1   \n",
       "36462  Français établis hors de France         10           1   \n",
       "36463  Français établis hors de France          7           1   \n",
       "36464  Français établis hors de France          6           1   \n",
       "36465  Français établis hors de France         11           1   \n",
       "\n",
       "                     countyName cityCodeLong  cityCode  \\\n",
       "0      Châtillon-sur-Chalaronne         1001         1   \n",
       "1             Ambérieu-en-Bugey         1002         2   \n",
       "2             Ambérieu-en-Bugey         1004         4   \n",
       "3            Villars-les-Dombes         1005         5   \n",
       "4                        Belley         1006         6   \n",
       "...                         ...          ...       ...   \n",
       "36461             Canton fictif        ZZ226       226   \n",
       "36462             Canton fictif        ZZ227       227   \n",
       "36463             Canton fictif        ZZ228       228   \n",
       "36464             Canton fictif        ZZ229       229   \n",
       "36465             Canton fictif        ZZ231       231   \n",
       "\n",
       "                      cityName cityCodeStr departmentCodeStr  \n",
       "0      L'Abergement-Clémenciat           1                 1  \n",
       "1        L'Abergement-de-Varey           2                 1  \n",
       "2            Ambérieu-en-Bugey           4                 1  \n",
       "3          Ambérieux-en-Dombes           5                 1  \n",
       "4                      Ambléon           6                 1  \n",
       "...                        ...         ...               ...  \n",
       "36461                    Wuhan         226                ZZ  \n",
       "36462                  Yaounde         227                ZZ  \n",
       "36463                   Zagreb         228                ZZ  \n",
       "36464                   Zurich         229                ZZ  \n",
       "36465                   Taipeh         231                ZZ  \n",
       "\n",
       "[36466 rows x 12 columns]"
      ]
     },
     "execution_count": 2,
     "metadata": {},
     "output_type": "execute_result"
    }
   ],
   "source": [
    "# convert in string to concate columns\n",
    "df[\"cityCodeStr\"] = df[\"cityCode\"].astype(str)\n",
    "df[\"departmentCodeStr\"] = df[\"departmentCode\"].astype(str)\n",
    "\n",
    "# if city code under 10, fill the column \"cityCodeLong\" with dept+00+city\n",
    "df.loc[df[\"cityCode\"] < 10, 'cityCodeLong'] = df[\"departmentCodeStr\"]+\"00\"+df[\"cityCodeStr\"]\n",
    "\n",
    "# remove column convert in string, only used to concate column\n",
    "df.drop(columns=[\"cityCodeStr\", \"departmentCodeStr\"])\n",
    "\n",
    "df"
   ]
  },
  {
   "cell_type": "code",
   "execution_count": 3,
   "metadata": {},
   "outputs": [],
   "source": [
    "# create a new json file cleaned\n",
    "df.to_json(\n",
    "        \"mytest.json\",\n",
    "        orient=\"records\",\n",
    "        force_ascii=False,\n",
    "        indent=2)\n"
   ]
  },
  {
   "cell_type": "code",
   "execution_count": null,
   "metadata": {},
   "outputs": [],
   "source": []
  },
  {
   "cell_type": "code",
   "execution_count": null,
   "metadata": {},
   "outputs": [],
   "source": []
  },
  {
   "cell_type": "code",
   "execution_count": null,
   "metadata": {},
   "outputs": [],
   "source": []
  },
  {
   "cell_type": "code",
   "execution_count": null,
   "metadata": {},
   "outputs": [],
   "source": []
  },
  {
   "cell_type": "code",
   "execution_count": null,
   "metadata": {},
   "outputs": [],
   "source": []
  },
  {
   "cell_type": "code",
   "execution_count": null,
   "metadata": {},
   "outputs": [],
   "source": []
  },
  {
   "cell_type": "code",
   "execution_count": null,
   "metadata": {},
   "outputs": [],
   "source": []
  },
  {
   "cell_type": "code",
   "execution_count": null,
   "metadata": {},
   "outputs": [],
   "source": []
  },
  {
   "cell_type": "code",
   "execution_count": null,
   "metadata": {},
   "outputs": [],
   "source": []
  },
  {
   "cell_type": "code",
   "execution_count": null,
   "metadata": {},
   "outputs": [],
   "source": []
  },
  {
   "cell_type": "code",
   "execution_count": null,
   "metadata": {},
   "outputs": [],
   "source": []
  },
  {
   "cell_type": "code",
   "execution_count": null,
   "metadata": {},
   "outputs": [],
   "source": []
  },
  {
   "cell_type": "code",
   "execution_count": null,
   "metadata": {},
   "outputs": [],
   "source": []
  },
  {
   "cell_type": "code",
   "execution_count": null,
   "metadata": {},
   "outputs": [],
   "source": []
  },
  {
   "cell_type": "code",
   "execution_count": null,
   "metadata": {},
   "outputs": [],
   "source": []
  },
  {
   "cell_type": "code",
   "execution_count": null,
   "metadata": {},
   "outputs": [],
   "source": []
  },
  {
   "cell_type": "code",
   "execution_count": null,
   "metadata": {},
   "outputs": [],
   "source": []
  },
  {
   "cell_type": "code",
   "execution_count": null,
   "metadata": {},
   "outputs": [],
   "source": []
  },
  {
   "cell_type": "code",
   "execution_count": null,
   "metadata": {},
   "outputs": [],
   "source": []
  },
  {
   "cell_type": "code",
   "execution_count": null,
   "metadata": {},
   "outputs": [],
   "source": []
  },
  {
   "cell_type": "code",
   "execution_count": null,
   "metadata": {},
   "outputs": [],
   "source": []
  },
  {
   "cell_type": "code",
   "execution_count": null,
   "metadata": {},
   "outputs": [],
   "source": []
  },
  {
   "cell_type": "code",
   "execution_count": null,
   "metadata": {},
   "outputs": [],
   "source": []
  },
  {
   "cell_type": "code",
   "execution_count": null,
   "metadata": {},
   "outputs": [],
   "source": []
  },
  {
   "cell_type": "code",
   "execution_count": null,
   "metadata": {},
   "outputs": [],
   "source": []
  },
  {
   "cell_type": "code",
   "execution_count": null,
   "metadata": {},
   "outputs": [],
   "source": []
  },
  {
   "cell_type": "code",
   "execution_count": null,
   "metadata": {},
   "outputs": [],
   "source": []
  },
  {
   "cell_type": "code",
   "execution_count": null,
   "metadata": {},
   "outputs": [],
   "source": []
  },
  {
   "cell_type": "code",
   "execution_count": null,
   "metadata": {},
   "outputs": [],
   "source": []
  },
  {
   "cell_type": "code",
   "execution_count": null,
   "metadata": {},
   "outputs": [],
   "source": []
  },
  {
   "cell_type": "code",
   "execution_count": null,
   "metadata": {},
   "outputs": [],
   "source": []
  },
  {
   "cell_type": "code",
   "execution_count": null,
   "metadata": {},
   "outputs": [],
   "source": []
  },
  {
   "cell_type": "code",
   "execution_count": null,
   "metadata": {},
   "outputs": [],
   "source": []
  },
  {
   "cell_type": "code",
   "execution_count": null,
   "metadata": {},
   "outputs": [],
   "source": []
  },
  {
   "cell_type": "code",
   "execution_count": null,
   "metadata": {},
   "outputs": [],
   "source": []
  },
  {
   "cell_type": "code",
   "execution_count": null,
   "metadata": {},
   "outputs": [],
   "source": []
  },
  {
   "cell_type": "code",
   "execution_count": null,
   "metadata": {},
   "outputs": [],
   "source": []
  },
  {
   "cell_type": "code",
   "execution_count": null,
   "metadata": {},
   "outputs": [],
   "source": []
  },
  {
   "cell_type": "code",
   "execution_count": null,
   "metadata": {},
   "outputs": [],
   "source": []
  },
  {
   "cell_type": "code",
   "execution_count": null,
   "metadata": {},
   "outputs": [],
   "source": []
  },
  {
   "cell_type": "code",
   "execution_count": null,
   "metadata": {},
   "outputs": [],
   "source": []
  },
  {
   "cell_type": "code",
   "execution_count": null,
   "metadata": {},
   "outputs": [],
   "source": []
  },
  {
   "cell_type": "code",
   "execution_count": null,
   "metadata": {},
   "outputs": [],
   "source": []
  },
  {
   "cell_type": "code",
   "execution_count": null,
   "metadata": {},
   "outputs": [],
   "source": []
  },
  {
   "cell_type": "code",
   "execution_count": null,
   "metadata": {},
   "outputs": [],
   "source": []
  },
  {
   "cell_type": "code",
   "execution_count": null,
   "metadata": {},
   "outputs": [],
   "source": []
  },
  {
   "cell_type": "code",
   "execution_count": null,
   "metadata": {},
   "outputs": [],
   "source": []
  },
  {
   "cell_type": "code",
   "execution_count": null,
   "metadata": {},
   "outputs": [],
   "source": []
  },
  {
   "cell_type": "code",
   "execution_count": null,
   "metadata": {},
   "outputs": [],
   "source": []
  },
  {
   "cell_type": "code",
   "execution_count": null,
   "metadata": {},
   "outputs": [],
   "source": []
  },
  {
   "cell_type": "code",
   "execution_count": null,
   "metadata": {},
   "outputs": [],
   "source": []
  },
  {
   "cell_type": "code",
   "execution_count": null,
   "metadata": {},
   "outputs": [],
   "source": []
  },
  {
   "cell_type": "code",
   "execution_count": null,
   "metadata": {},
   "outputs": [],
   "source": []
  },
  {
   "cell_type": "code",
   "execution_count": null,
   "metadata": {},
   "outputs": [],
   "source": []
  },
  {
   "cell_type": "code",
   "execution_count": null,
   "metadata": {},
   "outputs": [],
   "source": []
  },
  {
   "cell_type": "code",
   "execution_count": null,
   "metadata": {},
   "outputs": [],
   "source": []
  },
  {
   "cell_type": "code",
   "execution_count": null,
   "metadata": {},
   "outputs": [],
   "source": []
  },
  {
   "cell_type": "markdown",
   "metadata": {},
   "source": [
    "change all city code : \n",
    "\n",
    "01>001\n",
    "02>002\n",
    "03>003\n",
    "04>004\n",
    "05>005\n",
    "06>006\n",
    "07>007\n",
    "08>008\n",
    "09>009"
   ]
  },
  {
   "cell_type": "code",
   "execution_count": null,
   "metadata": {},
   "outputs": [],
   "source": []
  },
  {
   "cell_type": "code",
   "execution_count": null,
   "metadata": {},
   "outputs": [],
   "source": []
  },
  {
   "cell_type": "code",
   "execution_count": null,
   "metadata": {},
   "outputs": [],
   "source": []
  },
  {
   "cell_type": "code",
   "execution_count": null,
   "metadata": {},
   "outputs": [],
   "source": []
  },
  {
   "cell_type": "code",
   "execution_count": null,
   "metadata": {},
   "outputs": [],
   "source": []
  },
  {
   "cell_type": "code",
   "execution_count": 4,
   "metadata": {},
   "outputs": [
    {
     "ename": "NameError",
     "evalue": "name 'cityCodeLong' is not defined",
     "output_type": "error",
     "traceback": [
      "\u001b[0;31m---------------------------------------------------------------------------\u001b[0m",
      "\u001b[0;31mNameError\u001b[0m                                 Traceback (most recent call last)",
      "\u001b[0;32m/var/folders/5m/k5nxt60n3kgbtlt9p3dwsvfm0000gn/T/ipykernel_8311/511136899.py\u001b[0m in \u001b[0;36m<module>\u001b[0;34m\u001b[0m\n\u001b[1;32m      1\u001b[0m \u001b[0;31m# logic to clean the cityCodeLong\u001b[0m\u001b[0;34m\u001b[0m\u001b[0;34m\u001b[0m\u001b[0m\n\u001b[1;32m      2\u001b[0m \u001b[0;34m\u001b[0m\u001b[0m\n\u001b[0;32m----> 3\u001b[0;31m \u001b[0;32mif\u001b[0m \u001b[0mcityCodeLong\u001b[0m \u001b[0;34m<\u001b[0m \u001b[0;36m10\u001b[0m \u001b[0;34m:\u001b[0m\u001b[0;34m\u001b[0m\u001b[0;34m\u001b[0m\u001b[0m\n\u001b[0m\u001b[1;32m      4\u001b[0m     \u001b[0mcityCodeLong\u001b[0m \u001b[0;34m=\u001b[0m \u001b[0;34m\"00\"\u001b[0m\u001b[0;34m+\u001b[0m\u001b[0mcityCode\u001b[0m\u001b[0;34m\u001b[0m\u001b[0;34m\u001b[0m\u001b[0m\n\u001b[1;32m      5\u001b[0m \u001b[0;34m\u001b[0m\u001b[0m\n",
      "\u001b[0;31mNameError\u001b[0m: name 'cityCodeLong' is not defined"
     ]
    }
   ],
   "source": [
    "# logic to clean the cityCodeLong\n",
    "\n",
    "if cityCodeLong < 10 : \n",
    "    cityCodeLong = \"00\"+cityCode\n",
    "\n",
    "cityCodeLong = department + cityCodeLong"
   ]
  },
  {
   "cell_type": "code",
   "execution_count": null,
   "metadata": {},
   "outputs": [],
   "source": []
  },
  {
   "cell_type": "code",
   "execution_count": null,
   "metadata": {},
   "outputs": [],
   "source": []
  },
  {
   "cell_type": "code",
   "execution_count": null,
   "metadata": {},
   "outputs": [],
   "source": []
  },
  {
   "cell_type": "code",
   "execution_count": null,
   "metadata": {},
   "outputs": [],
   "source": []
  },
  {
   "cell_type": "code",
   "execution_count": null,
   "metadata": {},
   "outputs": [],
   "source": []
  },
  {
   "cell_type": "code",
   "execution_count": null,
   "metadata": {},
   "outputs": [],
   "source": []
  },
  {
   "cell_type": "code",
   "execution_count": null,
   "metadata": {},
   "outputs": [],
   "source": []
  },
  {
   "cell_type": "code",
   "execution_count": null,
   "metadata": {},
   "outputs": [],
   "source": []
  },
  {
   "cell_type": "code",
   "execution_count": null,
   "metadata": {},
   "outputs": [],
   "source": []
  },
  {
   "cell_type": "code",
   "execution_count": null,
   "metadata": {},
   "outputs": [],
   "source": []
  },
  {
   "cell_type": "code",
   "execution_count": null,
   "metadata": {},
   "outputs": [],
   "source": []
  },
  {
   "cell_type": "code",
   "execution_count": null,
   "metadata": {},
   "outputs": [],
   "source": []
  },
  {
   "cell_type": "code",
   "execution_count": null,
   "metadata": {},
   "outputs": [],
   "source": []
  },
  {
   "cell_type": "code",
   "execution_count": null,
   "metadata": {},
   "outputs": [],
   "source": []
  },
  {
   "cell_type": "code",
   "execution_count": null,
   "metadata": {},
   "outputs": [],
   "source": []
  },
  {
   "cell_type": "code",
   "execution_count": null,
   "metadata": {},
   "outputs": [],
   "source": []
  },
  {
   "cell_type": "code",
   "execution_count": null,
   "metadata": {},
   "outputs": [],
   "source": []
  },
  {
   "cell_type": "code",
   "execution_count": null,
   "metadata": {},
   "outputs": [],
   "source": []
  },
  {
   "cell_type": "code",
   "execution_count": null,
   "metadata": {},
   "outputs": [],
   "source": []
  },
  {
   "cell_type": "code",
   "execution_count": null,
   "metadata": {},
   "outputs": [],
   "source": []
  },
  {
   "cell_type": "code",
   "execution_count": null,
   "metadata": {},
   "outputs": [],
   "source": []
  }
 ],
 "metadata": {
  "interpreter": {
   "hash": "e1022b542166e026ed31ae5860f69c942ab4d82108fab7444c32b5e0e898685b"
  },
  "kernelspec": {
   "display_name": "Python 3.9.7 ('base')",
   "language": "python",
   "name": "python3"
  },
  "language_info": {
   "codemirror_mode": {
    "name": "ipython",
    "version": 3
   },
   "file_extension": ".py",
   "mimetype": "text/x-python",
   "name": "python",
   "nbconvert_exporter": "python",
   "pygments_lexer": "ipython3",
   "version": "3.9.7"
  },
  "orig_nbformat": 4
 },
 "nbformat": 4,
 "nbformat_minor": 2
}
